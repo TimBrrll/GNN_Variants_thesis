{
 "cells": [
  {
   "cell_type": "markdown",
   "metadata": {},
   "source": [
    "# This is the TM-2-WL code applied to the non-isomorphic graph pair $G$ and $H$."
   ]
  },
  {
   "cell_type": "markdown",
   "metadata": {},
   "source": [
    "### First, we create all possible 2-tuples."
   ]
  },
  {
   "cell_type": "code",
   "execution_count": 7,
   "metadata": {},
   "outputs": [],
   "source": [
    "import numpy as np\n",
    "\n",
    "t_l = [[(i,j) for i in range(1,13)] for j in range(1,13)]"
   ]
  },
  {
   "attachments": {},
   "cell_type": "markdown",
   "metadata": {},
   "source": [
    "## This is the fuction that calculates the set of multisets for a $k$-tuple according to definition 8 in the thesis."
   ]
  },
  {
   "cell_type": "code",
   "execution_count": 8,
   "metadata": {},
   "outputs": [],
   "source": [
    "def multiset_set_function(input_arr):\n",
    "    elem_list = [tuple(input_arr)]\n",
    "    \n",
    "    for elem in input_arr:\n",
    "        new_elem = list(input_arr)[:]\n",
    "        new_elem.append(elem)\n",
    "        new_elem.sort()\n",
    "        if len(set(new_elem)) == len(input_arr):\n",
    "            elem_list.append(tuple(new_elem))\n",
    "    \n",
    "    return elem_list"
   ]
  },
  {
   "attachments": {},
   "cell_type": "markdown",
   "metadata": {},
   "source": [
    "### This is function f by definition 10 that reduces the cardinalities of the vertices within a multiset."
   ]
  },
  {
   "cell_type": "code",
   "execution_count": 10,
   "metadata": {},
   "outputs": [],
   "source": [
    "def shrinking_function(input_arr):\n",
    "    new_list = list(input_arr)[:]\n",
    "    if len(input_arr) > 2:\n",
    "        counts = dict() \n",
    "        for i in input_arr:\n",
    "            counts[i] = counts.get(i, 0) + 1\n",
    "        for key in counts.keys():\n",
    "            if counts[key] >= 2:\n",
    "                counts[key] -= 1\n",
    "        new_list = []\n",
    "        for key in counts.keys():\n",
    "            for i in range(counts[key]):\n",
    "                new_list.append(key)\n",
    "    return tuple(new_list)\n"
   ]
  },
  {
   "attachments": {},
   "cell_type": "markdown",
   "metadata": {},
   "source": [
    "## Multiset Neighbourhood defined as in the paper"
   ]
  },
  {
   "cell_type": "code",
   "execution_count": 11,
   "metadata": {},
   "outputs": [],
   "source": [
    "def get_neighbourhood_for_multiset(input_multiset):\n",
    "    if len(input_multiset) == 2:\n",
    "        all_k_multisets = [(i,j) for i in range(1, 13) for j in range(i, 13)]\n",
    "    elif len(input_multiset) == 3:\n",
    "        all_k_multisets = [(i,j,k) for i in range(1,13) for j in range(i,13) for k in range(j, 13)]\n",
    "    res = []\n",
    "    for elem in all_k_multisets: \n",
    "        if len(set(input_multiset).intersection(set(elem))) == len(input_multiset) - 1:\n",
    "            if len(set(elem)) <= 2:\n",
    "                if (len(elem) == 2) or (len(shrinking_function(elem)) == 2):\n",
    "                    res.append(elem)\n",
    "    return res"
   ]
  },
  {
   "cell_type": "markdown",
   "metadata": {},
   "source": [
    "## The following function returns all permutations for a given multiset."
   ]
  },
  {
   "cell_type": "code",
   "execution_count": 12,
   "metadata": {},
   "outputs": [],
   "source": [
    "import itertools\n",
    "def get_permutations(input_multiset):\n",
    "    all_perms = list(itertools.permutations(input_multiset))    \n",
    "    return all_perms"
   ]
  },
  {
   "cell_type": "markdown",
   "metadata": {},
   "source": [
    "## Functions to determine the colour cardinalities after each iteration of the TM-2-WL."
   ]
  },
  {
   "cell_type": "code",
   "execution_count": 13,
   "metadata": {},
   "outputs": [],
   "source": [
    "def get_colour_arr(arr, colour_dir):\n",
    "    res = []\n",
    "    for elem in arr:\n",
    "        res.append(colour_dir[elem])\n",
    "    res.sort()\n",
    "    return res"
   ]
  },
  {
   "cell_type": "code",
   "execution_count": 14,
   "metadata": {},
   "outputs": [],
   "source": [
    "def get_colour_counter(dic_colour):\n",
    "    all_colours = []\n",
    "    for key_item in dic_colour.keys():\n",
    "        all_colours.append(dic_colour[key_item])\n",
    "    res = np.zeros(len(set(all_colours)))\n",
    "    for elem in all_colours:\n",
    "        res[elem-1] += 1\n",
    "    return res"
   ]
  },
  {
   "cell_type": "markdown",
   "metadata": {},
   "source": [
    "## Encoding of the TM-2-WL algorithm"
   ]
  },
  {
   "cell_type": "code",
   "execution_count": 15,
   "metadata": {},
   "outputs": [],
   "source": [
    "\n",
    "def TM_k_wl_update(list_tuples, initial_colourings, iterations=10):\n",
    "    colour_list = [initial_colourings]\n",
    "\n",
    "    for i in range(iterations):\n",
    "        colour_counter = get_colour_counter(colour_list[-1])\n",
    "        print(colour_counter)\n",
    "        new_colour_list= {}\n",
    "\n",
    "        injective_func = {}\n",
    "\n",
    "        for h, list_elements in enumerate(list_tuples):\n",
    "            for j, elem in enumerate(list_elements):\n",
    "                new_colour = [colour_list[i][elem]]\n",
    "                neighbourhoods = []\n",
    "                multiset_sets = multiset_set_function(elem)\n",
    "                \n",
    "                for multiset_elem in multiset_sets: \n",
    "                    neighbours_elements = get_neighbourhood_for_multiset(multiset_elem)\n",
    "                    neighbour_list = []\n",
    "\n",
    "                    for neighbours in neighbours_elements:\n",
    "                        new_elem = shrinking_function(neighbours)\n",
    "                    \n",
    "                        all_neighbour_perms = get_permutations(new_elem)\n",
    "                        neighbour_list += all_neighbour_perms\n",
    "\n",
    "                    neighbour_colour_list = get_colour_arr(neighbour_list, colour_list[i])\n",
    "                    neighbourhoods.append(tuple(neighbour_colour_list))\n",
    "               \n",
    "                new_colour.append(frozenset(tuple(neighbourhoods)))\n",
    "                new_colour = tuple(new_colour)\n",
    "\n",
    "                if new_colour not in injective_func.keys():\n",
    "                    injective_func[new_colour] = len(injective_func)\n",
    "                \n",
    "\n",
    "                new_colour_int = injective_func[new_colour]\n",
    "                new_colour_list[elem] = new_colour_int + 1\n",
    "        \n",
    "        colour_list.append(new_colour_list)\n",
    "    return colour_list[-1], injective_func\n",
    "                "
   ]
  },
  {
   "cell_type": "markdown",
   "metadata": {},
   "source": [
    "# Code for graph $G$\n",
    "\n",
    "## Atomic types for the 2-tuples of $G$."
   ]
  },
  {
   "cell_type": "code",
   "execution_count": 16,
   "metadata": {},
   "outputs": [],
   "source": [
    "initial_colourings_G = [\n",
    "    [2, 0, 0, 0, 1, 0, 0, 0, 1, 0, 0, 0],\n",
    "    [0, 2, 0, 0, 0, 1, 0, 0, 0, 1, 0, 0],\n",
    "    [0, 0, 2, 0, 0, 0, 1, 0, 0, 0, 1, 0],\n",
    "    [0, 0, 0, 2, 0, 0, 0, 1, 0, 0, 0, 1],\n",
    "    [1, 0, 0, 0, 2, 1, 1, 0, 0, 0, 0, 0],\n",
    "    [0, 1, 0, 0, 1, 2, 0, 1, 0, 0, 0, 0],\n",
    "    [0, 0, 1, 0, 1, 0, 2, 1, 0, 0, 0, 0],\n",
    "    [0, 0, 0, 1, 0, 1, 1, 2, 0, 0, 0, 0],\n",
    "    [1, 0, 0, 0, 0, 0, 0, 0, 2, 1, 1, 0],\n",
    "    [0, 1, 0, 0, 0, 0, 0, 0, 1, 2, 0, 1],\n",
    "    [0, 0, 1, 0, 0, 0, 0, 0, 1, 0, 2, 1],\n",
    "    [0, 0, 0, 1, 0, 0, 0, 0, 0, 1, 1, 2]]"
   ]
  },
  {
   "cell_type": "markdown",
   "metadata": {},
   "source": [
    "### This following function maps each atomic type to its according 2-tuple."
   ]
  },
  {
   "cell_type": "code",
   "execution_count": 17,
   "metadata": {},
   "outputs": [],
   "source": [
    "Initial_colourings_G = {}\n",
    "for tupled, colour_list in zip(t_l, initial_colourings_G):\n",
    "    for t, c in zip(tupled, colour_list):\n",
    "        Initial_colourings_G[t] = c+1"
   ]
  },
  {
   "cell_type": "markdown",
   "metadata": {},
   "source": [
    "### Return of the colour cardinalities for graph $G$ for 10 iterations. We can see that after 2 iterations the TM-2-WL has determined a stable colouring for $G$."
   ]
  },
  {
   "cell_type": "code",
   "execution_count": 18,
   "metadata": {},
   "outputs": [
    {
     "name": "stdout",
     "output_type": "stream",
     "text": [
      "[100.  32.  12.]\n",
      "[ 4. 12. 16. 48.  8. 16. 40.]\n",
      "[ 4. 12. 16. 48.  8. 16. 40.]\n",
      "[ 4. 12. 16. 48.  8. 16. 40.]\n",
      "[ 4. 12. 16. 48.  8. 16. 40.]\n",
      "[ 4. 12. 16. 48.  8. 16. 40.]\n",
      "[ 4. 12. 16. 48.  8. 16. 40.]\n",
      "[ 4. 12. 16. 48.  8. 16. 40.]\n",
      "[ 4. 12. 16. 48.  8. 16. 40.]\n",
      "[ 4. 12. 16. 48.  8. 16. 40.]\n"
     ]
    }
   ],
   "source": [
    "colour_list, injective_function = TM_k_wl_update(t_l, initial_colourings=Initial_colourings_G, iterations=10)"
   ]
  },
  {
   "cell_type": "markdown",
   "metadata": {},
   "source": [
    "# Code for graph $H$\n",
    "\n",
    "## Atomic types for the 2-tuples of $H$."
   ]
  },
  {
   "cell_type": "code",
   "execution_count": 19,
   "metadata": {},
   "outputs": [],
   "source": [
    "initial_colourings_H = [\n",
    "    [2, 0, 0, 0, 1, 0, 0, 0, 1, 0, 0, 0],\n",
    "    [0, 2, 0, 0, 0, 1, 0, 0, 0, 1, 0, 0],\n",
    "    [0, 0, 2, 0, 0, 0, 1, 0, 0, 0, 0, 1],\n",
    "    [0, 0, 0, 2, 0, 0, 0, 1, 0, 0, 1, 0],\n",
    "    [1, 0, 0, 0, 2, 1, 1, 0, 0, 0, 0, 0],\n",
    "    [0, 1, 0, 0, 1, 2, 0, 1, 0, 0, 0, 0],\n",
    "    [0, 0, 1, 0, 1, 0, 2, 1, 0, 0, 0, 0],\n",
    "    [0, 0, 0, 1, 0, 1, 1, 2, 0, 0, 0, 0],\n",
    "    [1, 0, 0, 0, 0, 0, 0, 0, 2, 1, 1, 0],\n",
    "    [0, 1, 0, 0, 0, 0, 0, 0, 1, 2, 0, 1],\n",
    "    [0, 0, 0, 1, 0, 0, 0, 0, 1, 0, 2, 1],\n",
    "    [0, 0, 1, 0, 0, 0, 0, 0, 0, 1, 1, 2]]"
   ]
  },
  {
   "cell_type": "markdown",
   "metadata": {},
   "source": [
    "### This following function maps each atomic type to its according 2-tuple."
   ]
  },
  {
   "cell_type": "code",
   "execution_count": 20,
   "metadata": {},
   "outputs": [],
   "source": [
    "Initial_colourings_H = {}\n",
    "\n",
    "for tupled, colour_list in zip(t_l, initial_colourings_H):\n",
    "    for t, c in zip(tupled, colour_list):\n",
    "        Initial_colourings_H[t] = c"
   ]
  },
  {
   "cell_type": "markdown",
   "metadata": {},
   "source": [
    "### Return of the colour cardinalities for graph $H$ for 10 iterations. We can see that after 2 iterations the TM-2-WL has calculated a stable colouring for $H$. Since both stable colourings have been calculated in the same iteration and the colour cardinalities for $G$ and $H$ are the same, we can deduce that the TM-2-WL fails to distinguish $G$ and $H$."
   ]
  },
  {
   "cell_type": "code",
   "execution_count": 21,
   "metadata": {},
   "outputs": [
    {
     "name": "stdout",
     "output_type": "stream",
     "text": [
      "[ 32.  12. 100.]\n",
      "[ 4. 12. 16. 48.  8. 16. 40.]\n",
      "[ 4. 12. 16. 48.  8. 16. 40.]\n",
      "[ 4. 12. 16. 48.  8. 16. 40.]\n",
      "[ 4. 12. 16. 48.  8. 16. 40.]\n",
      "[ 4. 12. 16. 48.  8. 16. 40.]\n",
      "[ 4. 12. 16. 48.  8. 16. 40.]\n",
      "[ 4. 12. 16. 48.  8. 16. 40.]\n",
      "[ 4. 12. 16. 48.  8. 16. 40.]\n",
      "[ 4. 12. 16. 48.  8. 16. 40.]\n"
     ]
    }
   ],
   "source": [
    "colour_list, injective_function = TM_k_wl_update(t_l, Initial_colourings_H, iterations=10)"
   ]
  }
 ],
 "metadata": {
  "kernelspec": {
   "display_name": ".venv",
   "language": "python",
   "name": "python3"
  },
  "language_info": {
   "codemirror_mode": {
    "name": "ipython",
    "version": 3
   },
   "file_extension": ".py",
   "mimetype": "text/x-python",
   "name": "python",
   "nbconvert_exporter": "python",
   "pygments_lexer": "ipython3",
   "version": "3.10.6"
  },
  "orig_nbformat": 4,
  "vscode": {
   "interpreter": {
    "hash": "7ab6058c7c6c9be59c98fd49255c59a1d68efe14f578080060e99f5c4f10085b"
   }
  }
 },
 "nbformat": 4,
 "nbformat_minor": 2
}
