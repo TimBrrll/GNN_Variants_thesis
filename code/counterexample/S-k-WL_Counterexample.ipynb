{
 "cells": [
  {
   "cell_type": "markdown",
   "metadata": {},
   "source": [
    "# This is the S-2-WL code applied to the non-isomorphic graph pair $G$ and $H$ from chapter 4.5."
   ]
  },
  {
   "cell_type": "markdown",
   "metadata": {},
   "source": [
    "### First, we create all sets of length 2."
   ]
  },
  {
   "cell_type": "code",
   "execution_count": 1,
   "metadata": {},
   "outputs": [],
   "source": [
    "t_l = [[(j, i) for i in range(j+1,13)] for j in range(1,12)]"
   ]
  },
  {
   "cell_type": "markdown",
   "metadata": {},
   "source": [
    "## This function determines the neighbourhood for a $k$-set."
   ]
  },
  {
   "cell_type": "code",
   "execution_count": 4,
   "metadata": {},
   "outputs": [],
   "source": [
    "def get_set_neighbourhood(input_set, colour_dir=None):\n",
    "    res = []\n",
    "    all_k_sets = [(i,j) for i in range(1,13) for j in range(1,13) if i < j] \n",
    "    for elem in all_k_sets:\n",
    "        if len(set(input_set).intersection(set(elem))) == len(input_set) - 1:\n",
    "            res.append(colour_dir[elem])\n",
    "    res.sort()\n",
    "    return res"
   ]
  },
  {
   "cell_type": "markdown",
   "metadata": {},
   "source": [
    "### This function calculates the number of each colour, this methods helps evaluating the cardinalities of all colours"
   ]
  },
  {
   "cell_type": "code",
   "execution_count": 6,
   "metadata": {},
   "outputs": [],
   "source": [
    "import numpy as np\n",
    "\n",
    "def get_colour_counter(dic_colour):\n",
    "    all_colours = []\n",
    "    for key_item in dic_colour.keys():\n",
    "        all_colours.append(dic_colour[key_item])\n",
    "    res = np.zeros(len(set(all_colours)))\n",
    "    for elem in all_colours:\n",
    "        res[elem-1] += 1\n",
    "    return res"
   ]
  },
  {
   "cell_type": "markdown",
   "metadata": {},
   "source": [
    "## Encoding of the S-2-WL"
   ]
  },
  {
   "cell_type": "code",
   "execution_count": 7,
   "metadata": {},
   "outputs": [],
   "source": [
    "def set_k_wl_update(list_tuples, initial_colourings):\n",
    "    colour_list = [initial_colourings]\n",
    "    for i in range(10): \n",
    "        print(get_colour_counter(colour_list[-1]))\n",
    "        new_colour_list = {}\n",
    "        injective_func = {}\n",
    "        for list_elements in list_tuples:\n",
    "            for elem in list_elements:\n",
    "                new_colour = [colour_list[i][elem]]\n",
    "                set_neighbourhood = tuple(get_set_neighbourhood(elem, colour_list[i]))\n",
    "\n",
    "                #new_colour = [c_(t-1), {{c_(t-1)(v), v is set-neighbour}}]\n",
    "                new_colour.append(tuple(set_neighbourhood))\n",
    "                new_colour = tuple(new_colour)\n",
    "                if new_colour not in injective_func.keys():\n",
    "                    injective_func[new_colour] = len(injective_func)\n",
    "                \n",
    "                new_colour_int = injective_func[new_colour]\n",
    "                new_colour_list[elem] = new_colour_int+1\n",
    "                \n",
    "        colour_list.append(new_colour_list)\n",
    "    return colour_list[-1], injective_func"
   ]
  },
  {
   "cell_type": "markdown",
   "metadata": {},
   "source": [
    "# Code for graph $G$.\n",
    "\n",
    "## Atomic types for the $k$-sets of $G$."
   ]
  },
  {
   "cell_type": "code",
   "execution_count": 2,
   "metadata": {},
   "outputs": [],
   "source": [
    "initial_colourings_G = [\n",
    "     [0, 0, 0, 1, 0, 0, 0, 1, 0, 0, 0],\n",
    "        [0, 0, 0, 1, 0, 0, 0, 1, 0, 0],\n",
    "           [0, 0, 0, 1, 0, 0, 0, 1, 0],\n",
    "              [0, 0, 0, 1, 0, 0, 0, 1],\n",
    "                 [1, 1, 0, 0, 0, 0, 0],\n",
    "                    [0, 1, 0, 0, 0, 0],\n",
    "                       [1, 0, 0, 0, 0],\n",
    "                          [0, 0, 0, 0],\n",
    "                             [1, 1, 0],\n",
    "                                [0, 1],\n",
    "                                   [1]]\n"
   ]
  },
  {
   "cell_type": "markdown",
   "metadata": {},
   "source": [
    "### This following function maps each atomic type to its according 2-set."
   ]
  },
  {
   "cell_type": "code",
   "execution_count": 3,
   "metadata": {},
   "outputs": [],
   "source": [
    "Initial_colourings_G = {}\n",
    "\n",
    "for tupled, colour_list in zip(t_l, initial_colourings_G):\n",
    "    for t, c in zip(tupled, colour_list):\n",
    "        Initial_colourings_G[t] = c + 1"
   ]
  },
  {
   "cell_type": "markdown",
   "metadata": {},
   "source": [
    "### Return of the colour cardinalities for graph $G$ for 10 iterations. We can see that after 2 iterations, the S-2-WL has determined a stable colouring."
   ]
  },
  {
   "cell_type": "code",
   "execution_count": 8,
   "metadata": {},
   "outputs": [
    {
     "name": "stdout",
     "output_type": "stream",
     "text": [
      "[50. 16.]\n",
      "[ 6.  8. 24.  8. 20.]\n",
      "[ 6.  8. 24.  8. 20.]\n",
      "[ 6.  8. 24.  8. 20.]\n",
      "[ 6.  8. 24.  8. 20.]\n",
      "[ 6.  8. 24.  8. 20.]\n",
      "[ 6.  8. 24.  8. 20.]\n",
      "[ 6.  8. 24.  8. 20.]\n",
      "[ 6.  8. 24.  8. 20.]\n",
      "[ 6.  8. 24.  8. 20.]\n"
     ]
    }
   ],
   "source": [
    "colour_list, injective_function = set_k_wl_update(t_l, initial_colourings=Initial_colourings_G)"
   ]
  },
  {
   "attachments": {},
   "cell_type": "markdown",
   "metadata": {},
   "source": [
    "# Graph H\n",
    "\n",
    "## Atomic types for all 2-sets in $H$."
   ]
  },
  {
   "cell_type": "code",
   "execution_count": 9,
   "metadata": {},
   "outputs": [],
   "source": [
    "initial_colourings_H = [\n",
    "     [0, 0, 0, 1, 0, 0, 0, 1, 0, 0, 0],\n",
    "        [0, 0, 0, 1, 0, 0, 0, 1, 0, 0],\n",
    "           [0, 0, 0, 1, 0, 0, 0, 0, 1],\n",
    "              [0, 0, 0, 1, 0, 0, 1, 0],\n",
    "                 [1, 1, 0, 0, 0, 0, 0],\n",
    "                    [0, 1, 0, 0, 0, 0],\n",
    "                       [1, 0, 0, 0, 0],\n",
    "                          [0, 0, 0, 0],\n",
    "                             [1, 1, 0],\n",
    "                                [0, 1],\n",
    "                                   [1]]"
   ]
  },
  {
   "cell_type": "markdown",
   "metadata": {},
   "source": [
    "### This following function maps each atomic type to its according 2-set."
   ]
  },
  {
   "cell_type": "code",
   "execution_count": 10,
   "metadata": {},
   "outputs": [],
   "source": [
    "Initial_colourings_H = {}\n",
    "\n",
    "for tupled, colour_list in zip(t_l, initial_colourings_H):\n",
    "    for t, c in zip(tupled, colour_list):\n",
    "        Initial_colourings_H[t] = c"
   ]
  },
  {
   "cell_type": "markdown",
   "metadata": {},
   "source": [
    "### Return of the colour cardinalities for the S-2-WL for $H$. Again, it has calculated the same stable colouring after 2 iterations as done for $G$. Therefore, the S-2-WL fails to distinguish $G$ and $H$."
   ]
  },
  {
   "cell_type": "code",
   "execution_count": 11,
   "metadata": {},
   "outputs": [
    {
     "name": "stdout",
     "output_type": "stream",
     "text": [
      "[16. 50.]\n",
      "[ 6.  8. 24.  8. 20.]\n",
      "[ 6.  8. 24.  8. 20.]\n",
      "[ 6.  8. 24.  8. 20.]\n",
      "[ 6.  8. 24.  8. 20.]\n",
      "[ 6.  8. 24.  8. 20.]\n",
      "[ 6.  8. 24.  8. 20.]\n",
      "[ 6.  8. 24.  8. 20.]\n",
      "[ 6.  8. 24.  8. 20.]\n",
      "[ 6.  8. 24.  8. 20.]\n"
     ]
    }
   ],
   "source": [
    "colour_list, injective_function = set_k_wl_update(t_l, Initial_colourings_H)"
   ]
  }
 ],
 "metadata": {
  "kernelspec": {
   "display_name": ".venv",
   "language": "python",
   "name": "python3"
  },
  "language_info": {
   "codemirror_mode": {
    "name": "ipython",
    "version": 3
   },
   "file_extension": ".py",
   "mimetype": "text/x-python",
   "name": "python",
   "nbconvert_exporter": "python",
   "pygments_lexer": "ipython3",
   "version": "3.10.6"
  },
  "orig_nbformat": 4,
  "vscode": {
   "interpreter": {
    "hash": "7ab6058c7c6c9be59c98fd49255c59a1d68efe14f578080060e99f5c4f10085b"
   }
  }
 },
 "nbformat": 4,
 "nbformat_minor": 2
}
