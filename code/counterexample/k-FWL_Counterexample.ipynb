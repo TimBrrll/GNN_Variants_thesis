{
 "cells": [
  {
   "cell_type": "markdown",
   "metadata": {},
   "source": [
    "# This is the $2$-FWL code applied to the non-isomorphic graph pair $G$ and $H$."
   ]
  },
  {
   "attachments": {},
   "cell_type": "markdown",
   "metadata": {},
   "source": [
    "### First, we create all possible 2-tuples."
   ]
  },
  {
   "cell_type": "code",
   "execution_count": 1,
   "metadata": {},
   "outputs": [],
   "source": [
    "import numpy as np\n",
    "\n",
    "t_l = [[(i,j) for i in range(1,13)] for j in range(1,13)]"
   ]
  },
  {
   "attachments": {},
   "cell_type": "markdown",
   "metadata": {},
   "source": [
    "## This function calculates the i-neighbourhood for a k-tuple k, where i is a vertex of $G$."
   ]
  },
  {
   "cell_type": "code",
   "execution_count": 2,
   "metadata": {},
   "outputs": [],
   "source": [
    "import numpy as np\n",
    "def get_i_neighbourhood_tuples(vertex, input_tuple, colour_dir=None):\n",
    "    res = []\n",
    "    for i in range(1, len(input_tuple)+1):\n",
    "        j_neighbour = list(input_tuple)\n",
    "        j_neighbour[i-1] = vertex\n",
    "        j_neighbour = tuple(j_neighbour)\n",
    "        colour_i_neighbour = colour_dir[j_neighbour]\n",
    "        res.append(colour_i_neighbour)\n",
    "    res.sort()\n",
    "    return res"
   ]
  },
  {
   "attachments": {},
   "cell_type": "markdown",
   "metadata": {},
   "source": [
    "### This function calculates the number of each colour, this methods helps evaluating the cardinalities of all colours"
   ]
  },
  {
   "cell_type": "code",
   "execution_count": 3,
   "metadata": {},
   "outputs": [],
   "source": [
    "def get_colour_counter(dic_colour):\n",
    "    all_colours = []\n",
    "    for key_item in dic_colour.keys():\n",
    "        all_colours.append(dic_colour[key_item])\n",
    "    res = np.zeros(len(set(all_colours)))\n",
    "    for elem in all_colours:\n",
    "        res[elem-1] += 1\n",
    "    return res"
   ]
  },
  {
   "attachments": {},
   "cell_type": "markdown",
   "metadata": {},
   "source": [
    "## Encoding of the 2-FWL algorithm"
   ]
  },
  {
   "cell_type": "code",
   "execution_count": 5,
   "metadata": {},
   "outputs": [],
   "source": [
    "def k_fwl_update(list_tuples, initial_colourings, iterations = 10):\n",
    "    colour_list = [initial_colourings]\n",
    "    \n",
    "    for i in range(iterations): \n",
    "        #Get the amount for each colour from the last iteration\n",
    "        colour_counter = get_colour_counter(colour_list[-1])\n",
    "        print(colour_counter)\n",
    "\n",
    "        #new_colour_list is the list with all the colour cardinalities for all k-tuples from iteration t-1\n",
    "        new_colour_list = {}\n",
    "\n",
    "        #Injective_func is the function that maps a encoding to a number (1,2,3...).\n",
    "        #If the encoding is not in the function, we add a new entry to it.\n",
    "        injective_func = {}\n",
    "        for list_elements in list_tuples:\n",
    "            for elem in list_elements:\n",
    "                new_colour = [colour_list[i][elem]]\n",
    "                neighbourhoods = []\n",
    "\n",
    "                #We calculate all j-neighbours and set them as tuples.\n",
    "                for j in range(1,13):\n",
    "                    j_neighbours = tuple(get_i_neighbourhood_tuples(j, elem, colour_list[i]))\n",
    "                    neighbourhoods.append(j_neighbours)\n",
    "\n",
    "                #This is the new encoding of the colour from iteration t-1 and the coloursetmultisets of neighbours from t-1\n",
    "                #new_colour(v) = [c_t-1(v), {colour 1_neighbourhood}, {colour 2_neighbourhood}]\n",
    "                new_colour.append(frozenset(tuple(neighbourhoods)))\n",
    "                new_colour = tuple(new_colour)\n",
    "\n",
    "                #Check if colour encoding is in injective_func\n",
    "                if new_colour not in injective_func.keys():\n",
    "                    injective_func[new_colour] = len(injective_func)\n",
    "                \n",
    "                #Get hash value for colour encoding\n",
    "                new_colour_int = injective_func[new_colour]\n",
    "                new_colour_list[elem] = new_colour_int+1\n",
    "                \n",
    "        colour_list.append(new_colour_list)\n",
    "    return colour_list[-1], injective_func\n",
    "                \n"
   ]
  },
  {
   "attachments": {},
   "cell_type": "markdown",
   "metadata": {},
   "source": [
    "\n",
    "\n",
    "# Code for G"
   ]
  },
  {
   "cell_type": "markdown",
   "metadata": {},
   "source": [
    "## Atomic types for the 2-tuples of $G$."
   ]
  },
  {
   "cell_type": "code",
   "execution_count": 6,
   "metadata": {},
   "outputs": [],
   "source": [
    "initial_colourings_G = [\n",
    "    [2, 0, 0, 0, 1, 0, 0, 0, 1, 0, 0, 0],\n",
    "    [0, 2, 0, 0, 0, 1, 0, 0, 0, 1, 0, 0],\n",
    "    [0, 0, 2, 0, 0, 0, 1, 0, 0, 0, 1, 0],\n",
    "    [0, 0, 0, 2, 0, 0, 0, 1, 0, 0, 0, 1],\n",
    "    [1, 0, 0, 0, 2, 1, 1, 0, 0, 0, 0, 0],\n",
    "    [0, 1, 0, 0, 1, 2, 0, 1, 0, 0, 0, 0],\n",
    "    [0, 0, 1, 0, 1, 0, 2, 1, 0, 0, 0, 0],\n",
    "    [0, 0, 0, 1, 0, 1, 1, 2, 0, 0, 0, 0],\n",
    "    [1, 0, 0, 0, 0, 0, 0, 0, 2, 1, 1, 0],\n",
    "    [0, 1, 0, 0, 0, 0, 0, 0, 1, 2, 0, 1],\n",
    "    [0, 0, 1, 0, 0, 0, 0, 0, 1, 0, 2, 1],\n",
    "    [0, 0, 0, 1, 0, 0, 0, 0, 0, 1, 1, 2]]"
   ]
  },
  {
   "cell_type": "markdown",
   "metadata": {},
   "source": [
    "### This following function maps each atomic type to its according 2-tuple."
   ]
  },
  {
   "cell_type": "code",
   "execution_count": 7,
   "metadata": {},
   "outputs": [],
   "source": [
    "Initial_colourings_G = {}\n",
    "\n",
    "for tupled, colour_list in zip(t_l, initial_colourings_G):\n",
    "    for t, c in zip(tupled, colour_list):\n",
    "        Initial_colourings_G[t] = c+1\n",
    "\n"
   ]
  },
  {
   "cell_type": "markdown",
   "metadata": {},
   "source": [
    "### Return of the colour cardinalities for graph $G$ for 10 iterations. We can see after 5 iterations the 2-FWL has calculated a stable colouring."
   ]
  },
  {
   "cell_type": "code",
   "execution_count": 8,
   "metadata": {},
   "outputs": [
    {
     "name": "stdout",
     "output_type": "stream",
     "text": [
      "[100.  32.  12.]\n",
      "[12. 52. 32. 48.]\n",
      "[12.  8.  4. 32. 48. 32.  8.]\n",
      "[ 4.  8.  4. 16. 32. 16.  8. 16. 16. 16.  8.]\n",
      "[ 4.  8.  4. 16. 32. 16.  8. 16.  8.  8. 16.  8.]\n",
      "[ 4.  8.  4. 16. 32. 16.  8. 16.  8.  8. 16.  8.]\n",
      "[ 4.  8.  4. 16. 32. 16.  8. 16.  8.  8. 16.  8.]\n",
      "[ 4.  8.  4. 16. 32. 16.  8. 16.  8.  8. 16.  8.]\n",
      "[ 4.  8.  4. 16. 32. 16.  8. 16.  8.  8. 16.  8.]\n",
      "[ 4.  8.  4. 16. 32. 16.  8. 16.  8.  8. 16.  8.]\n"
     ]
    }
   ],
   "source": [
    "colour_list, injective_function = k_fwl_update(t_l, initial_colourings=Initial_colourings_G, iterations=10)\n"
   ]
  },
  {
   "attachments": {},
   "cell_type": "markdown",
   "metadata": {},
   "source": [
    "# Code for H\n",
    "## Atomic Types for 2-tuples."
   ]
  },
  {
   "cell_type": "code",
   "execution_count": 9,
   "metadata": {},
   "outputs": [],
   "source": [
    "initial_colourings_H = [\n",
    "    [2, 0, 0, 0, 1, 0, 0, 0, 1, 0, 0, 0],\n",
    "    [0, 2, 0, 0, 0, 1, 0, 0, 0, 1, 0, 0],\n",
    "    [0, 0, 2, 0, 0, 0, 1, 0, 0, 0, 0, 1],\n",
    "    [0, 0, 0, 2, 0, 0, 0, 1, 0, 0, 1, 0],\n",
    "    [1, 0, 0, 0, 2, 1, 1, 0, 0, 0, 0, 0],\n",
    "    [0, 1, 0, 0, 1, 2, 0, 1, 0, 0, 0, 0],\n",
    "    [0, 0, 1, 0, 1, 0, 2, 1, 0, 0, 0, 0],\n",
    "    [0, 0, 0, 1, 0, 1, 1, 2, 0, 0, 0, 0],\n",
    "    [1, 0, 0, 0, 0, 0, 0, 0, 2, 1, 1, 0],\n",
    "    [0, 1, 0, 0, 0, 0, 0, 0, 1, 2, 0, 1],\n",
    "    [0, 0, 0, 1, 0, 0, 0, 0, 1, 0, 2, 1],\n",
    "    [0, 0, 1, 0, 0, 0, 0, 0, 0, 1, 1, 2]]"
   ]
  },
  {
   "cell_type": "markdown",
   "metadata": {},
   "source": [
    "### This following function maps each atomic type to its according 2-tuple."
   ]
  },
  {
   "cell_type": "code",
   "execution_count": 10,
   "metadata": {},
   "outputs": [],
   "source": [
    "Initial_colourings_H = {}\n",
    "\n",
    "for tupled, colour_list in zip(t_l, initial_colourings_H):\n",
    "    for t, c in zip(tupled, colour_list):\n",
    "        Initial_colourings_H[t] = c"
   ]
  },
  {
   "cell_type": "markdown",
   "metadata": {},
   "source": [
    "### Return of the colour cardinalities for graph $H$ for 10 iterations. We can see that after 4 iterations the 2-FWL has calculated a stable colouring for $H$. Since in iteration 2 the cardinalities differ from those determined in $G$, the 2-FWL returns that the graphs are non-isomorphic. "
   ]
  },
  {
   "cell_type": "code",
   "execution_count": 12,
   "metadata": {},
   "outputs": [
    {
     "name": "stdout",
     "output_type": "stream",
     "text": [
      "[ 32.  12. 100.]\n",
      "[12. 52. 32. 48.]\n",
      "[12.  4. 32. 32. 40.  8. 16.]\n",
      "[ 4.  4.  8. 16. 16. 16. 16.  8.  8.  8.  8.  8.  8. 16.]\n",
      "[ 4.  4.  8. 16. 16. 16. 16.  8.  8.  8.  8.  8.  8. 16.]\n",
      "[ 4.  4.  8. 16. 16. 16. 16.  8.  8.  8.  8.  8.  8. 16.]\n",
      "[ 4.  4.  8. 16. 16. 16. 16.  8.  8.  8.  8.  8.  8. 16.]\n",
      "[ 4.  4.  8. 16. 16. 16. 16.  8.  8.  8.  8.  8.  8. 16.]\n",
      "[ 4.  4.  8. 16. 16. 16. 16.  8.  8.  8.  8.  8.  8. 16.]\n",
      "[ 4.  4.  8. 16. 16. 16. 16.  8.  8.  8.  8.  8.  8. 16.]\n"
     ]
    }
   ],
   "source": [
    "colour_list, injective_function = k_fwl_update(t_l, Initial_colourings_H, iterations=10)"
   ]
  }
 ],
 "metadata": {
  "kernelspec": {
   "display_name": "Python 3",
   "language": "python",
   "name": "python3"
  },
  "language_info": {
   "codemirror_mode": {
    "name": "ipython",
    "version": 3
   },
   "file_extension": ".py",
   "mimetype": "text/x-python",
   "name": "python",
   "nbconvert_exporter": "python",
   "pygments_lexer": "ipython3",
   "version": "3.10.6"
  },
  "orig_nbformat": 4,
  "vscode": {
   "interpreter": {
    "hash": "b0fa6594d8f4cbf19f97940f81e996739fb7646882a419484c72d19e05852a7e"
   }
  }
 },
 "nbformat": 4,
 "nbformat_minor": 2
}
