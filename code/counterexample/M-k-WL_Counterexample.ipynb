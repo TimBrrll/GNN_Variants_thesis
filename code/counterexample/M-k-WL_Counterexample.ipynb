{
 "cells": [
  {
   "cell_type": "markdown",
   "metadata": {},
   "source": [
    "# This is the M-2-WL code applied to the non-isomorphic graph pair $G$ and $H$."
   ]
  },
  {
   "cell_type": "markdown",
   "metadata": {},
   "source": [
    "### First, we create all possible multisets of length 2."
   ]
  },
  {
   "cell_type": "code",
   "execution_count": 1,
   "metadata": {},
   "outputs": [],
   "source": [
    "t_l = [[(j, i) for i in range(j,13)] for j in range(1,13)]"
   ]
  },
  {
   "cell_type": "markdown",
   "metadata": {},
   "source": [
    "## This function calculates the multiset neighbourhood for a given multiset. "
   ]
  },
  {
   "cell_type": "code",
   "execution_count": 11,
   "metadata": {},
   "outputs": [],
   "source": [
    "def get_multiset_neighbourhood(input_set, colour_dir=None):\n",
    "    res = []\n",
    "    all_k_multisets = [(i,j) for i in range(1,13) for j in range(1,13) if i <= j] \n",
    "    for elem in all_k_multisets:\n",
    "        if len(set(input_set).intersection(set(elem))) == len(input_set) - 1:\n",
    "            res.append(colour_dir[elem])\n",
    "    res.sort()\n",
    "    return res"
   ]
  },
  {
   "cell_type": "markdown",
   "metadata": {},
   "source": [
    "## This function calculates the number of each colour in from the whole graph, determining the cardinality of all colours."
   ]
  },
  {
   "cell_type": "code",
   "execution_count": 12,
   "metadata": {},
   "outputs": [],
   "source": [
    "import numpy as np\n",
    "\n",
    "def get_colour_counter(dic_colour):\n",
    "    all_colours = []\n",
    "    for key_item in dic_colour.keys():\n",
    "        all_colours.append(dic_colour[key_item])\n",
    "    res = np.zeros(len(set(all_colours)))\n",
    "    for elem in all_colours:\n",
    "        res[elem-1] += 1\n",
    "    return res"
   ]
  },
  {
   "cell_type": "markdown",
   "metadata": {},
   "source": [
    "## Encoding of the M-2-WL"
   ]
  },
  {
   "cell_type": "code",
   "execution_count": 4,
   "metadata": {},
   "outputs": [],
   "source": [
    "def multiset_k_wl_update(list_tuples, initial_colourings, iterations=10):\n",
    "    colour_list = [initial_colourings]\n",
    "    for i in range(iterations): \n",
    "        print(get_colour_counter(colour_list[-1]))\n",
    "        new_colour_list = {}\n",
    "        injective_func = {}\n",
    "        for list_elements in list_tuples:\n",
    "            for elem in list_elements:\n",
    "                new_colour = [colour_list[i][elem]]\n",
    "                set_neighbourhood = tuple(get_multiset_neighbourhood(elem, colour_list[i]))\n",
    "\n",
    "                #new_colour = [c_(t-1), {{c_(t-1)(v), v is set-neighbour}}]\n",
    "                new_colour.append(tuple(set_neighbourhood))\n",
    "                new_colour = tuple(new_colour)\n",
    "                if new_colour not in injective_func.keys():\n",
    "                    injective_func[new_colour] = len(injective_func)\n",
    "                new_colour_int = injective_func[new_colour]\n",
    "                new_colour_list[elem] = new_colour_int+1\n",
    "                \n",
    "        colour_list.append(new_colour_list)\n",
    "    return colour_list[-1], injective_func"
   ]
  },
  {
   "cell_type": "markdown",
   "metadata": {},
   "source": [
    "# Code for G\n",
    "\n",
    "## Atomic types of the 2-multisets for $G$."
   ]
  },
  {
   "cell_type": "code",
   "execution_count": 5,
   "metadata": {},
   "outputs": [],
   "source": [
    "initial_colourings_G = [\n",
    "     [2, 0, 0, 0, 1, 0, 0, 0, 1, 0, 0, 0],\n",
    "        [2, 0, 0, 0, 1, 0, 0, 0, 1, 0, 0],\n",
    "           [2, 0, 0, 0, 1, 0, 0, 0, 1, 0],\n",
    "              [2, 0, 0, 0, 1, 0, 0, 0, 1],\n",
    "                 [2, 1, 1, 0, 0, 0, 0, 0],\n",
    "                    [2, 0, 1, 0, 0, 0, 0],\n",
    "                       [2, 1, 0, 0, 0, 0],\n",
    "                          [2, 0, 0, 0, 0],\n",
    "                             [2, 1, 1, 0],\n",
    "                                [2, 0, 1],\n",
    "                                   [2, 1],\n",
    "                                       [2]]"
   ]
  },
  {
   "cell_type": "markdown",
   "metadata": {},
   "source": [
    "### This following function maps each atomic type to its according 2-multiset."
   ]
  },
  {
   "cell_type": "code",
   "execution_count": 6,
   "metadata": {},
   "outputs": [],
   "source": [
    "Initial_colourings_G = {}\n",
    "\n",
    "for tupled, colour_list in zip(t_l, initial_colourings_G,):\n",
    "    for t, c in zip(tupled, colour_list):\n",
    "        Initial_colourings_G[t] = c + 1"
   ]
  },
  {
   "cell_type": "markdown",
   "metadata": {},
   "source": [
    "### Return of the colour cardinalities for graph $G$ for 10 iterations. After 1 iteration the algorithm has computed a stable colouring."
   ]
  },
  {
   "cell_type": "code",
   "execution_count": 7,
   "metadata": {},
   "outputs": [
    {
     "name": "stdout",
     "output_type": "stream",
     "text": [
      "[50. 16. 12.]\n",
      "[ 4.  6.  8. 24.  8.  8. 20.]\n",
      "[ 4.  6.  8. 24.  8.  8. 20.]\n",
      "[ 4.  6.  8. 24.  8.  8. 20.]\n",
      "[ 4.  6.  8. 24.  8.  8. 20.]\n",
      "[ 4.  6.  8. 24.  8.  8. 20.]\n",
      "[ 4.  6.  8. 24.  8.  8. 20.]\n",
      "[ 4.  6.  8. 24.  8.  8. 20.]\n",
      "[ 4.  6.  8. 24.  8.  8. 20.]\n",
      "[ 4.  6.  8. 24.  8.  8. 20.]\n"
     ]
    }
   ],
   "source": [
    "colour_list, injective_function = multiset_k_wl_update(t_l, initial_colourings=Initial_colourings_G, iterations=10)"
   ]
  },
  {
   "cell_type": "markdown",
   "metadata": {},
   "source": [
    "# Code for $H$\n",
    "\n",
    "## Atomic types of the 2-multisets for $H$."
   ]
  },
  {
   "cell_type": "code",
   "execution_count": 8,
   "metadata": {},
   "outputs": [],
   "source": [
    "initial_colourings_H = [\n",
    "     [2, 0, 0, 0, 1, 0, 0, 0, 1, 0, 0, 0],\n",
    "        [2, 0, 0, 0, 1, 0, 0, 0, 1, 0, 0],\n",
    "           [2, 0, 0, 0, 1, 0, 0, 0, 0, 1],\n",
    "              [2, 0, 0, 0, 1, 0, 0, 1, 0],\n",
    "                 [2, 1, 1, 0, 0, 0, 0, 0],\n",
    "                    [2, 0, 1, 0, 0, 0, 0],\n",
    "                       [2, 1, 0, 0, 0, 0],\n",
    "                          [2, 0, 0, 0, 0],\n",
    "                             [2, 1, 1, 0],\n",
    "                                [2, 0, 1],\n",
    "                                   [2, 1],\n",
    "                                       [2]]"
   ]
  },
  {
   "cell_type": "markdown",
   "metadata": {},
   "source": [
    "### This following function maps each atomic type to its according 2-multiset."
   ]
  },
  {
   "cell_type": "code",
   "execution_count": 14,
   "metadata": {},
   "outputs": [],
   "source": [
    "Initial_colourings_H = {}\n",
    "\n",
    "for tupled, colour_list in zip(t_l, initial_colourings_H):\n",
    "    for t, c in zip(tupled, colour_list):\n",
    "        Initial_colourings_H[t] = c"
   ]
  },
  {
   "cell_type": "markdown",
   "metadata": {},
   "source": [
    "### Return of the colour cardinalities for graph $H$ for 10 iterations. After 1 iteration the algorithm has computed a stable colouring, which is the same as for $G$. The M-2-WL therefore fails to distinguish $G$ and $H$."
   ]
  },
  {
   "cell_type": "code",
   "execution_count": 9,
   "metadata": {},
   "outputs": [
    {
     "name": "stdout",
     "output_type": "stream",
     "text": [
      "[16. 12. 50.]\n",
      "[ 4.  6.  8. 24.  8.  8. 20.]\n",
      "[ 4.  6.  8. 24.  8.  8. 20.]\n",
      "[ 4.  6.  8. 24.  8.  8. 20.]\n",
      "[ 4.  6.  8. 24.  8.  8. 20.]\n",
      "[ 4.  6.  8. 24.  8.  8. 20.]\n",
      "[ 4.  6.  8. 24.  8.  8. 20.]\n",
      "[ 4.  6.  8. 24.  8.  8. 20.]\n",
      "[ 4.  6.  8. 24.  8.  8. 20.]\n",
      "[ 4.  6.  8. 24.  8.  8. 20.]\n"
     ]
    }
   ],
   "source": [
    "colour_list, injective_function = multiset_k_wl_update(t_l, Initial_colourings_H)"
   ]
  }
 ],
 "metadata": {
  "kernelspec": {
   "display_name": ".venv",
   "language": "python",
   "name": "python3"
  },
  "language_info": {
   "codemirror_mode": {
    "name": "ipython",
    "version": 3
   },
   "file_extension": ".py",
   "mimetype": "text/x-python",
   "name": "python",
   "nbconvert_exporter": "python",
   "pygments_lexer": "ipython3",
   "version": "3.10.6"
  },
  "orig_nbformat": 4,
  "vscode": {
   "interpreter": {
    "hash": "7ab6058c7c6c9be59c98fd49255c59a1d68efe14f578080060e99f5c4f10085b"
   }
  }
 },
 "nbformat": 4,
 "nbformat_minor": 2
}
