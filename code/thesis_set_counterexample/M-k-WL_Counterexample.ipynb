{
 "cells": [
  {
   "cell_type": "code",
   "execution_count": 1,
   "metadata": {},
   "outputs": [
    {
     "data": {
      "text/plain": [
       "[[(1, 1),\n",
       "  (1, 2),\n",
       "  (1, 3),\n",
       "  (1, 4),\n",
       "  (1, 5),\n",
       "  (1, 6),\n",
       "  (1, 7),\n",
       "  (1, 8),\n",
       "  (1, 9),\n",
       "  (1, 10),\n",
       "  (1, 11),\n",
       "  (1, 12)],\n",
       " [(2, 2),\n",
       "  (2, 3),\n",
       "  (2, 4),\n",
       "  (2, 5),\n",
       "  (2, 6),\n",
       "  (2, 7),\n",
       "  (2, 8),\n",
       "  (2, 9),\n",
       "  (2, 10),\n",
       "  (2, 11),\n",
       "  (2, 12)],\n",
       " [(3, 3),\n",
       "  (3, 4),\n",
       "  (3, 5),\n",
       "  (3, 6),\n",
       "  (3, 7),\n",
       "  (3, 8),\n",
       "  (3, 9),\n",
       "  (3, 10),\n",
       "  (3, 11),\n",
       "  (3, 12)],\n",
       " [(4, 4), (4, 5), (4, 6), (4, 7), (4, 8), (4, 9), (4, 10), (4, 11), (4, 12)],\n",
       " [(5, 5), (5, 6), (5, 7), (5, 8), (5, 9), (5, 10), (5, 11), (5, 12)],\n",
       " [(6, 6), (6, 7), (6, 8), (6, 9), (6, 10), (6, 11), (6, 12)],\n",
       " [(7, 7), (7, 8), (7, 9), (7, 10), (7, 11), (7, 12)],\n",
       " [(8, 8), (8, 9), (8, 10), (8, 11), (8, 12)],\n",
       " [(9, 9), (9, 10), (9, 11), (9, 12)],\n",
       " [(10, 10), (10, 11), (10, 12)],\n",
       " [(11, 11), (11, 12)],\n",
       " [(12, 12)]]"
      ]
     },
     "execution_count": 1,
     "metadata": {},
     "output_type": "execute_result"
    }
   ],
   "source": [
    "t_l = [[(j, i) for i in range(j,13)] for j in range(1,13)]\n",
    "t_l"
   ]
  },
  {
   "cell_type": "code",
   "execution_count": 2,
   "metadata": {},
   "outputs": [],
   "source": [
    "initial_colourings_G = [\n",
    "     [2, 0, 0, 0, 1, 0, 0, 0, 1, 0, 0, 0],\n",
    "        [2, 0, 0, 0, 1, 0, 0, 0, 1, 0, 0],\n",
    "           [2, 0, 0, 0, 1, 0, 0, 0, 1, 0],\n",
    "              [2, 0, 0, 0, 1, 0, 0, 0, 1],\n",
    "                 [2, 1, 1, 0, 0, 0, 0, 0],\n",
    "                    [2, 0, 1, 0, 0, 0, 0],\n",
    "                       [2, 1, 0, 0, 0, 0],\n",
    "                          [2, 0, 0, 0, 0],\n",
    "                             [2, 1, 1, 0],\n",
    "                                [2, 0, 1],\n",
    "                                   [2, 1],\n",
    "                                       [2]]"
   ]
  },
  {
   "cell_type": "code",
   "execution_count": 3,
   "metadata": {},
   "outputs": [],
   "source": [
    "Initial_colourings_G = {}\n",
    "\n",
    "for tupled, colour_list in zip(t_l, initial_colourings_G):\n",
    "    for t, c in zip(tupled, colour_list):\n",
    "        Initial_colourings_G[t] = c + 1"
   ]
  },
  {
   "cell_type": "code",
   "execution_count": 4,
   "metadata": {},
   "outputs": [
    {
     "name": "stdout",
     "output_type": "stream",
     "text": [
      "(1, 2)\n",
      "(1, 3)\n",
      "(1, 4)\n",
      "(1, 6)\n",
      "(1, 7)\n",
      "(1, 8)\n",
      "(1, 10)\n",
      "(1, 11)\n",
      "(1, 12)\n",
      "(2, 3)\n",
      "(2, 4)\n",
      "(2, 5)\n",
      "(2, 7)\n",
      "(2, 8)\n",
      "(2, 9)\n",
      "(2, 11)\n",
      "(2, 12)\n",
      "(3, 4)\n",
      "(3, 5)\n",
      "(3, 6)\n",
      "(3, 8)\n",
      "(3, 9)\n",
      "(3, 10)\n",
      "(3, 12)\n",
      "(4, 5)\n",
      "(4, 6)\n",
      "(4, 7)\n",
      "(4, 9)\n",
      "(4, 10)\n",
      "(4, 11)\n",
      "(5, 8)\n",
      "(5, 9)\n",
      "(5, 10)\n",
      "(5, 11)\n",
      "(5, 12)\n",
      "(6, 7)\n",
      "(6, 9)\n",
      "(6, 10)\n",
      "(6, 11)\n",
      "(6, 12)\n",
      "(7, 9)\n",
      "(7, 10)\n",
      "(7, 11)\n",
      "(7, 12)\n",
      "(8, 9)\n",
      "(8, 10)\n",
      "(8, 11)\n",
      "(8, 12)\n",
      "(9, 12)\n",
      "(10, 11)\n"
     ]
    }
   ],
   "source": [
    "for elem_key in Initial_colourings_G.keys():\n",
    "    if Initial_colourings_G[elem_key] == 1:\n",
    "        print(elem_key)"
   ]
  },
  {
   "cell_type": "code",
   "execution_count": 5,
   "metadata": {},
   "outputs": [],
   "source": [
    "def get_multiset_neighbourhood(input_set, colour_dir=None):\n",
    "    res = []\n",
    "    all_k_tuples = [(i,j) for i in range(1,13) for j in range(1,13) if i <= j] \n",
    "    for elem in all_k_tuples:\n",
    "        if len(set(input_set).intersection(set(elem))) == len(input_set) - 1:\n",
    "            res.append(colour_dir[elem])\n",
    "    res.sort()\n",
    "    return res"
   ]
  },
  {
   "cell_type": "code",
   "execution_count": 6,
   "metadata": {},
   "outputs": [],
   "source": [
    "import numpy as np\n",
    "\n",
    "def get_colour_counter(dic_colour):\n",
    "    all_colours = []\n",
    "    for key_item in dic_colour.keys():\n",
    "        all_colours.append(dic_colour[key_item])\n",
    "    res = np.zeros(len(set(all_colours)))\n",
    "    for elem in all_colours:\n",
    "        res[elem-1] += 1\n",
    "    return res"
   ]
  },
  {
   "cell_type": "code",
   "execution_count": 7,
   "metadata": {},
   "outputs": [],
   "source": [
    "import numpy as np\n",
    "\n",
    "def multiset_k_wl_update(list_tuples, initial_colourings):\n",
    "    colour_list = [initial_colourings]\n",
    "    for i in range(10): \n",
    "        print(get_colour_counter(colour_list[-1]))\n",
    "        new_colour_list = {}\n",
    "        injective_func = {}\n",
    "        for list_elements in list_tuples:\n",
    "            for elem in list_elements:\n",
    "                new_colour = [colour_list[i][elem]]\n",
    "                set_neighbourhood = tuple(get_multiset_neighbourhood(elem, colour_list[i]))\n",
    "\n",
    "                #new_colour = [c_(t-1), {{c_(t-1)(v), v is set-neighbour}}]\n",
    "                new_colour.append(tuple(set_neighbourhood))\n",
    "                new_colour = tuple(new_colour)\n",
    "                if new_colour not in injective_func.keys():\n",
    "                    injective_func[new_colour] = len(injective_func)\n",
    "                new_colour_int = injective_func[new_colour]\n",
    "                new_colour_list[elem] = new_colour_int+1\n",
    "                \n",
    "        colour_list.append(new_colour_list)\n",
    "    return colour_list[-1], injective_func"
   ]
  },
  {
   "cell_type": "code",
   "execution_count": 8,
   "metadata": {},
   "outputs": [
    {
     "name": "stdout",
     "output_type": "stream",
     "text": [
      "[50. 16. 12.]\n",
      "[ 4.  6.  8. 24.  8.  8. 20.]\n",
      "[ 4.  6.  8. 24.  8.  8. 20.]\n",
      "[ 4.  6.  8. 24.  8.  8. 20.]\n",
      "[ 4.  6.  8. 24.  8.  8. 20.]\n",
      "[ 4.  6.  8. 24.  8.  8. 20.]\n",
      "[ 4.  6.  8. 24.  8.  8. 20.]\n",
      "[ 4.  6.  8. 24.  8.  8. 20.]\n",
      "[ 4.  6.  8. 24.  8.  8. 20.]\n",
      "[ 4.  6.  8. 24.  8.  8. 20.]\n"
     ]
    }
   ],
   "source": [
    "colour_list, injective_function = multiset_k_wl_update(t_l, initial_colourings=Initial_colourings_G)"
   ]
  },
  {
   "cell_type": "code",
   "execution_count": 11,
   "metadata": {},
   "outputs": [],
   "source": [
    "initial_colourings_H = [\n",
    "     [2, 0, 0, 0, 1, 0, 0, 0, 1, 0, 0, 0],\n",
    "        [2, 0, 0, 0, 1, 0, 0, 0, 1, 0, 0],\n",
    "           [2, 0, 0, 0, 1, 0, 0, 0, 0, 1],\n",
    "              [2, 0, 0, 0, 1, 0, 0, 1, 0],\n",
    "                 [2, 1, 1, 0, 0, 0, 0, 0],\n",
    "                    [2, 0, 1, 0, 0, 0, 0],\n",
    "                       [2, 1, 0, 0, 0, 0],\n",
    "                          [2, 0, 0, 0, 0],\n",
    "                             [2, 1, 1, 0],\n",
    "                                [2, 0, 1],\n",
    "                                   [2, 1],\n",
    "                                       [2]]\n",
    "\n",
    "Initial_colourings_H = {}\n",
    "\n",
    "for tupled, colour_list in zip(t_l, initial_colourings_H):\n",
    "    for t, c in zip(tupled, colour_list):\n",
    "        Initial_colourings_H[t] = c"
   ]
  },
  {
   "cell_type": "code",
   "execution_count": 12,
   "metadata": {},
   "outputs": [
    {
     "name": "stdout",
     "output_type": "stream",
     "text": [
      "[16. 12. 50.]\n",
      "[ 4.  6.  8. 24.  8.  8. 20.]\n",
      "[ 4.  6.  8. 24.  8.  8. 20.]\n",
      "[ 4.  6.  8. 24.  8.  8. 20.]\n",
      "[ 4.  6.  8. 24.  8.  8. 20.]\n",
      "[ 4.  6.  8. 24.  8.  8. 20.]\n",
      "[ 4.  6.  8. 24.  8.  8. 20.]\n",
      "[ 4.  6.  8. 24.  8.  8. 20.]\n",
      "[ 4.  6.  8. 24.  8.  8. 20.]\n",
      "[ 4.  6.  8. 24.  8.  8. 20.]\n"
     ]
    }
   ],
   "source": [
    "colour_list, injective_function = multiset_k_wl_update(t_l, Initial_colourings_H)"
   ]
  }
 ],
 "metadata": {
  "kernelspec": {
   "display_name": ".venv",
   "language": "python",
   "name": "python3"
  },
  "language_info": {
   "codemirror_mode": {
    "name": "ipython",
    "version": 3
   },
   "file_extension": ".py",
   "mimetype": "text/x-python",
   "name": "python",
   "nbconvert_exporter": "python",
   "pygments_lexer": "ipython3",
   "version": "3.11.4"
  },
  "orig_nbformat": 4,
  "vscode": {
   "interpreter": {
    "hash": "7ab6058c7c6c9be59c98fd49255c59a1d68efe14f578080060e99f5c4f10085b"
   }
  }
 },
 "nbformat": 4,
 "nbformat_minor": 2
}
