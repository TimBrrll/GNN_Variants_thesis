{
 "cells": [
  {
   "cell_type": "code",
   "execution_count": 140,
   "metadata": {},
   "outputs": [
    {
     "data": {
      "text/plain": [
       "[[(1, 1),\n",
       "  (2, 1),\n",
       "  (3, 1),\n",
       "  (4, 1),\n",
       "  (5, 1),\n",
       "  (6, 1),\n",
       "  (7, 1),\n",
       "  (8, 1),\n",
       "  (9, 1),\n",
       "  (10, 1),\n",
       "  (11, 1),\n",
       "  (12, 1)],\n",
       " [(1, 2),\n",
       "  (2, 2),\n",
       "  (3, 2),\n",
       "  (4, 2),\n",
       "  (5, 2),\n",
       "  (6, 2),\n",
       "  (7, 2),\n",
       "  (8, 2),\n",
       "  (9, 2),\n",
       "  (10, 2),\n",
       "  (11, 2),\n",
       "  (12, 2)],\n",
       " [(1, 3),\n",
       "  (2, 3),\n",
       "  (3, 3),\n",
       "  (4, 3),\n",
       "  (5, 3),\n",
       "  (6, 3),\n",
       "  (7, 3),\n",
       "  (8, 3),\n",
       "  (9, 3),\n",
       "  (10, 3),\n",
       "  (11, 3),\n",
       "  (12, 3)],\n",
       " [(1, 4),\n",
       "  (2, 4),\n",
       "  (3, 4),\n",
       "  (4, 4),\n",
       "  (5, 4),\n",
       "  (6, 4),\n",
       "  (7, 4),\n",
       "  (8, 4),\n",
       "  (9, 4),\n",
       "  (10, 4),\n",
       "  (11, 4),\n",
       "  (12, 4)],\n",
       " [(1, 5),\n",
       "  (2, 5),\n",
       "  (3, 5),\n",
       "  (4, 5),\n",
       "  (5, 5),\n",
       "  (6, 5),\n",
       "  (7, 5),\n",
       "  (8, 5),\n",
       "  (9, 5),\n",
       "  (10, 5),\n",
       "  (11, 5),\n",
       "  (12, 5)],\n",
       " [(1, 6),\n",
       "  (2, 6),\n",
       "  (3, 6),\n",
       "  (4, 6),\n",
       "  (5, 6),\n",
       "  (6, 6),\n",
       "  (7, 6),\n",
       "  (8, 6),\n",
       "  (9, 6),\n",
       "  (10, 6),\n",
       "  (11, 6),\n",
       "  (12, 6)],\n",
       " [(1, 7),\n",
       "  (2, 7),\n",
       "  (3, 7),\n",
       "  (4, 7),\n",
       "  (5, 7),\n",
       "  (6, 7),\n",
       "  (7, 7),\n",
       "  (8, 7),\n",
       "  (9, 7),\n",
       "  (10, 7),\n",
       "  (11, 7),\n",
       "  (12, 7)],\n",
       " [(1, 8),\n",
       "  (2, 8),\n",
       "  (3, 8),\n",
       "  (4, 8),\n",
       "  (5, 8),\n",
       "  (6, 8),\n",
       "  (7, 8),\n",
       "  (8, 8),\n",
       "  (9, 8),\n",
       "  (10, 8),\n",
       "  (11, 8),\n",
       "  (12, 8)],\n",
       " [(1, 9),\n",
       "  (2, 9),\n",
       "  (3, 9),\n",
       "  (4, 9),\n",
       "  (5, 9),\n",
       "  (6, 9),\n",
       "  (7, 9),\n",
       "  (8, 9),\n",
       "  (9, 9),\n",
       "  (10, 9),\n",
       "  (11, 9),\n",
       "  (12, 9)],\n",
       " [(1, 10),\n",
       "  (2, 10),\n",
       "  (3, 10),\n",
       "  (4, 10),\n",
       "  (5, 10),\n",
       "  (6, 10),\n",
       "  (7, 10),\n",
       "  (8, 10),\n",
       "  (9, 10),\n",
       "  (10, 10),\n",
       "  (11, 10),\n",
       "  (12, 10)],\n",
       " [(1, 11),\n",
       "  (2, 11),\n",
       "  (3, 11),\n",
       "  (4, 11),\n",
       "  (5, 11),\n",
       "  (6, 11),\n",
       "  (7, 11),\n",
       "  (8, 11),\n",
       "  (9, 11),\n",
       "  (10, 11),\n",
       "  (11, 11),\n",
       "  (12, 11)],\n",
       " [(1, 12),\n",
       "  (2, 12),\n",
       "  (3, 12),\n",
       "  (4, 12),\n",
       "  (5, 12),\n",
       "  (6, 12),\n",
       "  (7, 12),\n",
       "  (8, 12),\n",
       "  (9, 12),\n",
       "  (10, 12),\n",
       "  (11, 12),\n",
       "  (12, 12)]]"
      ]
     },
     "execution_count": 140,
     "metadata": {},
     "output_type": "execute_result"
    }
   ],
   "source": [
    "import numpy as np\n",
    "\n",
    "t_l = [[(i,j) for i in range(1,13)] for j in range(1,13)]\n",
    "t_l"
   ]
  },
  {
   "cell_type": "code",
   "execution_count": 2,
   "metadata": {},
   "outputs": [],
   "source": [
    "initial_colourings_G = [\n",
    "    [2, 0, 0, 0, 1, 0, 0, 0, 1, 0, 0, 0],\n",
    "    [0, 2, 0, 0, 0, 1, 0, 0, 0, 1, 0, 0],\n",
    "    [0, 0, 2, 0, 0, 0, 1, 0, 0, 0, 1, 0],\n",
    "    [0, 0, 0, 2, 0, 0, 0, 1, 0, 0, 0, 1],\n",
    "    [1, 0, 0, 0, 2, 1, 1, 0, 0, 0, 0, 0],\n",
    "    [0, 1, 0, 0, 1, 2, 0, 1, 0, 0, 0, 0],\n",
    "    [0, 0, 1, 0, 1, 0, 2, 1, 0, 0, 0, 0],\n",
    "    [0, 0, 0, 1, 0, 1, 1, 2, 0, 0, 0, 0],\n",
    "    [1, 0, 0, 0, 0, 0, 0, 0, 2, 1, 1, 0],\n",
    "    [0, 1, 0, 0, 0, 0, 0, 0, 1, 2, 0, 1],\n",
    "    [0, 0, 1, 0, 0, 0, 0, 0, 1, 0, 2, 1],\n",
    "    [0, 0, 0, 1, 0, 0, 0, 0, 0, 1, 1, 2]]"
   ]
  },
  {
   "cell_type": "code",
   "execution_count": 3,
   "metadata": {},
   "outputs": [],
   "source": [
    "Initial_colourings_G = {}\n",
    "\n",
    "for tupled, colour_list in zip(t_l, initial_colourings_G):\n",
    "    for t, c in zip(tupled, colour_list):\n",
    "        Initial_colourings_G[t] = c+1"
   ]
  },
  {
   "cell_type": "code",
   "execution_count": 5,
   "metadata": {},
   "outputs": [],
   "source": [
    "Initial_colourings_G = {}\n",
    "\n",
    "for tupled, colour_list in zip(t_l, initial_colourings_G):\n",
    "    for t, c in zip(tupled, colour_list):\n",
    "        Initial_colourings_G[t] = c+1"
   ]
  },
  {
   "cell_type": "code",
   "execution_count": 6,
   "metadata": {},
   "outputs": [
    {
     "data": {
      "text/plain": [
       "{(1, 1): 3,\n",
       " (2, 1): 1,\n",
       " (3, 1): 1,\n",
       " (4, 1): 1,\n",
       " (5, 1): 2,\n",
       " (6, 1): 1,\n",
       " (7, 1): 1,\n",
       " (8, 1): 1,\n",
       " (9, 1): 2,\n",
       " (10, 1): 1,\n",
       " (11, 1): 1,\n",
       " (12, 1): 1,\n",
       " (1, 2): 1,\n",
       " (2, 2): 3,\n",
       " (3, 2): 1,\n",
       " (4, 2): 1,\n",
       " (5, 2): 1,\n",
       " (6, 2): 2,\n",
       " (7, 2): 1,\n",
       " (8, 2): 1,\n",
       " (9, 2): 1,\n",
       " (10, 2): 2,\n",
       " (11, 2): 1,\n",
       " (12, 2): 1,\n",
       " (1, 3): 1,\n",
       " (2, 3): 1,\n",
       " (3, 3): 3,\n",
       " (4, 3): 1,\n",
       " (5, 3): 1,\n",
       " (6, 3): 1,\n",
       " (7, 3): 2,\n",
       " (8, 3): 1,\n",
       " (9, 3): 1,\n",
       " (10, 3): 1,\n",
       " (11, 3): 2,\n",
       " (12, 3): 1,\n",
       " (1, 4): 1,\n",
       " (2, 4): 1,\n",
       " (3, 4): 1,\n",
       " (4, 4): 3,\n",
       " (5, 4): 1,\n",
       " (6, 4): 1,\n",
       " (7, 4): 1,\n",
       " (8, 4): 2,\n",
       " (9, 4): 1,\n",
       " (10, 4): 1,\n",
       " (11, 4): 1,\n",
       " (12, 4): 2,\n",
       " (1, 5): 2,\n",
       " (2, 5): 1,\n",
       " (3, 5): 1,\n",
       " (4, 5): 1,\n",
       " (5, 5): 3,\n",
       " (6, 5): 2,\n",
       " (7, 5): 2,\n",
       " (8, 5): 1,\n",
       " (9, 5): 1,\n",
       " (10, 5): 1,\n",
       " (11, 5): 1,\n",
       " (12, 5): 1,\n",
       " (1, 6): 1,\n",
       " (2, 6): 2,\n",
       " (3, 6): 1,\n",
       " (4, 6): 1,\n",
       " (5, 6): 2,\n",
       " (6, 6): 3,\n",
       " (7, 6): 1,\n",
       " (8, 6): 2,\n",
       " (9, 6): 1,\n",
       " (10, 6): 1,\n",
       " (11, 6): 1,\n",
       " (12, 6): 1,\n",
       " (1, 7): 1,\n",
       " (2, 7): 1,\n",
       " (3, 7): 2,\n",
       " (4, 7): 1,\n",
       " (5, 7): 2,\n",
       " (6, 7): 1,\n",
       " (7, 7): 3,\n",
       " (8, 7): 2,\n",
       " (9, 7): 1,\n",
       " (10, 7): 1,\n",
       " (11, 7): 1,\n",
       " (12, 7): 1,\n",
       " (1, 8): 1,\n",
       " (2, 8): 1,\n",
       " (3, 8): 1,\n",
       " (4, 8): 2,\n",
       " (5, 8): 1,\n",
       " (6, 8): 2,\n",
       " (7, 8): 2,\n",
       " (8, 8): 3,\n",
       " (9, 8): 1,\n",
       " (10, 8): 1,\n",
       " (11, 8): 1,\n",
       " (12, 8): 1,\n",
       " (1, 9): 2,\n",
       " (2, 9): 1,\n",
       " (3, 9): 1,\n",
       " (4, 9): 1,\n",
       " (5, 9): 1,\n",
       " (6, 9): 1,\n",
       " (7, 9): 1,\n",
       " (8, 9): 1,\n",
       " (9, 9): 3,\n",
       " (10, 9): 2,\n",
       " (11, 9): 2,\n",
       " (12, 9): 1,\n",
       " (1, 10): 1,\n",
       " (2, 10): 2,\n",
       " (3, 10): 1,\n",
       " (4, 10): 1,\n",
       " (5, 10): 1,\n",
       " (6, 10): 1,\n",
       " (7, 10): 1,\n",
       " (8, 10): 1,\n",
       " (9, 10): 2,\n",
       " (10, 10): 3,\n",
       " (11, 10): 1,\n",
       " (12, 10): 2,\n",
       " (1, 11): 1,\n",
       " (2, 11): 1,\n",
       " (3, 11): 2,\n",
       " (4, 11): 1,\n",
       " (5, 11): 1,\n",
       " (6, 11): 1,\n",
       " (7, 11): 1,\n",
       " (8, 11): 1,\n",
       " (9, 11): 2,\n",
       " (10, 11): 1,\n",
       " (11, 11): 3,\n",
       " (12, 11): 2,\n",
       " (1, 12): 1,\n",
       " (2, 12): 1,\n",
       " (3, 12): 1,\n",
       " (4, 12): 2,\n",
       " (5, 12): 1,\n",
       " (6, 12): 1,\n",
       " (7, 12): 1,\n",
       " (8, 12): 1,\n",
       " (9, 12): 1,\n",
       " (10, 12): 2,\n",
       " (11, 12): 2,\n",
       " (12, 12): 3}"
      ]
     },
     "execution_count": 6,
     "metadata": {},
     "output_type": "execute_result"
    }
   ],
   "source": [
    "Initial_colourings_G"
   ]
  },
  {
   "attachments": {},
   "cell_type": "markdown",
   "metadata": {},
   "source": [
    "## This is the fuction that calculates the multisets for a $k$-tuple according to definition 3 in my thesis"
   ]
  },
  {
   "cell_type": "code",
   "execution_count": 204,
   "metadata": {},
   "outputs": [],
   "source": [
    "def multiset_set_function(input_arr):\n",
    "    elem_list = [tuple(input_arr)]\n",
    "    \n",
    "    for elem in input_arr:\n",
    "        new_elem = list(input_arr)[:]\n",
    "        new_elem.append(elem)\n",
    "        new_elem.sort()\n",
    "        if len(set(new_elem)) == len(input_arr):\n",
    "            elem_list.append(tuple(new_elem))\n",
    "    \n",
    "    return elem_list"
   ]
  },
  {
   "cell_type": "code",
   "execution_count": 205,
   "metadata": {},
   "outputs": [
    {
     "name": "stdout",
     "output_type": "stream",
     "text": [
      "[(1, 2), (1, 1, 2), (1, 2, 2)]\n"
     ]
    }
   ],
   "source": [
    "print(multiset_set_function([1,2]))"
   ]
  },
  {
   "attachments": {},
   "cell_type": "markdown",
   "metadata": {},
   "source": [
    "## This is function f by definition 5"
   ]
  },
  {
   "cell_type": "code",
   "execution_count": 206,
   "metadata": {},
   "outputs": [],
   "source": [
    "def shrinking_function(input_arr):\n",
    "    new_list = list(input_arr)[:]\n",
    "    if len(input_arr) > 2:\n",
    "        counts = dict() \n",
    "        for i in input_arr:\n",
    "            counts[i] = counts.get(i, 0) + 1\n",
    "        for key in counts.keys():\n",
    "            if counts[key] >= 2:\n",
    "                counts[key] -= 1\n",
    "        new_list = []\n",
    "        for key in counts.keys():\n",
    "            for i in range(counts[key]):\n",
    "                new_list.append(key)\n",
    "    return tuple(new_list)\n"
   ]
  },
  {
   "cell_type": "code",
   "execution_count": 207,
   "metadata": {},
   "outputs": [
    {
     "name": "stdout",
     "output_type": "stream",
     "text": [
      "('v1', 'v1', 'v2', 'v3')\n"
     ]
    }
   ],
   "source": [
    "print(shrinking_function((\"v1\", \"v1\", \"v1\", \"v2\", \"v3\", \"v3\")))"
   ]
  },
  {
   "attachments": {},
   "cell_type": "markdown",
   "metadata": {},
   "source": [
    "## Multiset Neighbourhood defined as in the paper"
   ]
  },
  {
   "cell_type": "markdown",
   "metadata": {},
   "source": []
  },
  {
   "cell_type": "code",
   "execution_count": 208,
   "metadata": {},
   "outputs": [],
   "source": [
    "def get_neighbourhood_for_multiset(input_multiset):\n",
    "    if len(input_multiset) == 2:\n",
    "        all_k_multisets = [(i,j) for i in range(1, 13) for j in range(i, 13)]\n",
    "    elif len(input_multiset) == 3:\n",
    "        all_k_multisets = [(i,j,k) for i in range(1,13) for j in range(i,13) for k in range(j, 13)]\n",
    "    res = []\n",
    "    for elem in all_k_multisets: \n",
    "        if len(set(input_multiset).intersection(set(elem))) == len(input_multiset) - 1:\n",
    "            if len(set(elem)) <= 2:\n",
    "                if (len(elem) == 2) or (len(shrinking_function(elem)) == 2):\n",
    "                    res.append(elem)\n",
    "    return res"
   ]
  },
  {
   "cell_type": "code",
   "execution_count": 209,
   "metadata": {},
   "outputs": [],
   "source": [
    "\n",
    "import itertools\n",
    "def get_permutations(input_tuple):\n",
    "    all_perms = list(itertools.permutations(input_tuple))    \n",
    "    return all_perms\n",
    "\n"
   ]
  },
  {
   "cell_type": "code",
   "execution_count": 210,
   "metadata": {},
   "outputs": [],
   "source": [
    "def get_colour_arr(arr, colour_dir):\n",
    "    res = []\n",
    "    for elem in arr:\n",
    "        res.append(colour_dir[elem])\n",
    "    res.sort()\n",
    "    return res"
   ]
  },
  {
   "cell_type": "code",
   "execution_count": 211,
   "metadata": {},
   "outputs": [],
   "source": [
    "def get_colour_counter(dic_colour):\n",
    "    all_colours = []\n",
    "    for key_item in dic_colour.keys():\n",
    "        all_colours.append(dic_colour[key_item])\n",
    "    res = np.zeros(len(set(all_colours)))\n",
    "    for elem in all_colours:\n",
    "        res[elem-1] += 1\n",
    "    return res"
   ]
  },
  {
   "cell_type": "code",
   "execution_count": 212,
   "metadata": {},
   "outputs": [],
   "source": [
    "def TM_k_wl_update(list_tuples, initial_colourings):\n",
    "    colour_list = [initial_colourings]\n",
    "\n",
    "    for i in range(5):\n",
    "        colour_counter = get_colour_counter(colour_list[-1])\n",
    "        print(colour_counter)\n",
    "        new_colour_list= {}\n",
    "\n",
    "        injective_func = {}\n",
    "\n",
    "        for h, list_elements in enumerate(list_tuples):\n",
    "            for j, elem in enumerate(list_elements):\n",
    "                new_colour = [colour_list[i][elem]]\n",
    "                neighbourhoods = []\n",
    "                multiset_sets = multiset_set_function(elem)\n",
    "                for multiset_elem in multiset_sets: \n",
    "                    neighbours_elements = get_neighbourhood_for_multiset(multiset_elem)\n",
    "                    neighbour_list = []\n",
    "                    for neighbours in neighbours_elements:\n",
    "                        new_elem = shrinking_function(neighbours)\n",
    "                        # print(f\"elem = {elem}\")\n",
    "                        all_neighbour_perms = get_permutations(new_elem)\n",
    "                        neighbour_list += all_neighbour_perms\n",
    "\n",
    "                    neighbour_colour_list = get_colour_arr(neighbour_list, colour_list[i])\n",
    "                    neighbourhoods.append(tuple(neighbour_colour_list))\n",
    "               \n",
    "                new_colour.append(frozenset(tuple(neighbourhoods)))\n",
    "                new_colour = tuple(new_colour)\n",
    "\n",
    "                if new_colour not in injective_func.keys():\n",
    "                    injective_func[new_colour] = len(injective_func)\n",
    "                \n",
    "\n",
    "                new_colour_int = injective_func[new_colour]\n",
    "                new_colour_list[elem] = new_colour_int + 1\n",
    "        \n",
    "        colour_list.append(new_colour_list)\n",
    "    return colour_list[-1], injective_func\n",
    "                "
   ]
  },
  {
   "cell_type": "code",
   "execution_count": 200,
   "metadata": {},
   "outputs": [
    {
     "name": "stdout",
     "output_type": "stream",
     "text": [
      "[100.  32.  12.]\n",
      "[ 4. 12. 16. 48.  8. 16. 40.]\n",
      "[ 4. 12. 16. 48.  8. 16. 40.]\n",
      "[ 4. 12. 16. 48.  8. 16. 40.]\n",
      "[ 4. 12. 16. 48.  8. 16. 40.]\n"
     ]
    }
   ],
   "source": [
    "colour_list, injective_function = TM_k_wl_update(t_l, initial_colourings=Initial_colourings_G)"
   ]
  },
  {
   "cell_type": "code",
   "execution_count": 201,
   "metadata": {},
   "outputs": [],
   "source": [
    "initial_colourings_H = [\n",
    "    [2, 0, 0, 0, 1, 0, 0, 0, 1, 0, 0, 0],\n",
    "    [0, 2, 0, 0, 0, 1, 0, 0, 0, 1, 0, 0],\n",
    "    [0, 0, 2, 0, 0, 0, 1, 0, 0, 0, 0, 1],\n",
    "    [0, 0, 0, 2, 0, 0, 0, 1, 0, 0, 1, 0],\n",
    "    [1, 0, 0, 0, 2, 1, 1, 0, 0, 0, 0, 0],\n",
    "    [0, 1, 0, 0, 1, 2, 0, 1, 0, 0, 0, 0],\n",
    "    [0, 0, 1, 0, 1, 0, 2, 1, 0, 0, 0, 0],\n",
    "    [0, 0, 0, 1, 0, 1, 1, 2, 0, 0, 0, 0],\n",
    "    [1, 0, 0, 0, 0, 0, 0, 0, 2, 1, 1, 0],\n",
    "    [0, 1, 0, 0, 0, 0, 0, 0, 1, 2, 0, 1],\n",
    "    [0, 0, 0, 1, 0, 0, 0, 0, 1, 0, 2, 1],\n",
    "    [0, 0, 1, 0, 0, 0, 0, 0, 0, 1, 1, 2]]"
   ]
  },
  {
   "cell_type": "code",
   "execution_count": 202,
   "metadata": {},
   "outputs": [],
   "source": [
    "Initial_colourings_H = {}\n",
    "\n",
    "for tupled, colour_list in zip(t_l, initial_colourings_H):\n",
    "    for t, c in zip(tupled, colour_list):\n",
    "        Initial_colourings_H[t] = c"
   ]
  },
  {
   "cell_type": "code",
   "execution_count": 203,
   "metadata": {},
   "outputs": [
    {
     "name": "stdout",
     "output_type": "stream",
     "text": [
      "[ 32.  12. 100.]\n",
      "[ 4. 12. 16. 48.  8. 16. 40.]\n",
      "[ 4. 12. 16. 48.  8. 16. 40.]\n",
      "[ 4. 12. 16. 48.  8. 16. 40.]\n",
      "[ 4. 12. 16. 48.  8. 16. 40.]\n"
     ]
    }
   ],
   "source": [
    "colour_list, injective_function = TM_k_wl_update(t_l, Initial_colourings_H)"
   ]
  }
 ],
 "metadata": {
  "kernelspec": {
   "display_name": ".venv",
   "language": "python",
   "name": "python3"
  },
  "language_info": {
   "codemirror_mode": {
    "name": "ipython",
    "version": 3
   },
   "file_extension": ".py",
   "mimetype": "text/x-python",
   "name": "python",
   "nbconvert_exporter": "python",
   "pygments_lexer": "ipython3",
   "version": "3.11.4 (main, Jun 20 2023, 17:23:00) [Clang 14.0.3 (clang-1403.0.22.14.1)]"
  },
  "orig_nbformat": 4,
  "vscode": {
   "interpreter": {
    "hash": "7ab6058c7c6c9be59c98fd49255c59a1d68efe14f578080060e99f5c4f10085b"
   }
  }
 },
 "nbformat": 4,
 "nbformat_minor": 2
}
